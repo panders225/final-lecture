{
 "cells": [
  {
   "cell_type": "code",
   "execution_count": 1,
   "metadata": {},
   "outputs": [],
   "source": [
    "import numpy as np\n",
    "import pandas as pd"
   ]
  },
  {
   "cell_type": "markdown",
   "metadata": {},
   "source": [
    "## Data Import"
   ]
  },
  {
   "cell_type": "code",
   "execution_count": 2,
   "metadata": {},
   "outputs": [],
   "source": [
    "data_vec = [0.6528, 0.5719, 0.4262, 0.0019, 0.0298, 0.0344, 0.0201, 0.0001, 1.000, 0.0004, 0.0459, 0.7590, 0.3240, 0.0095, 0.0278]"
   ]
  },
  {
   "cell_type": "code",
   "execution_count": 3,
   "metadata": {},
   "outputs": [
    {
     "name": "stdout",
     "output_type": "stream",
     "text": [
      "15\n",
      "[0.6528, 0.5719, 0.4262, 0.0019, 0.0298, 0.0344, 0.0201, 0.0001, 1.0, 0.0004, 0.0459, 0.759, 0.324, 0.0095, 0.0278]\n"
     ]
    }
   ],
   "source": [
    "print(data_vec)"
   ]
  },
  {
   "cell_type": "code",
   "execution_count": 6,
   "metadata": {},
   "outputs": [
    {
     "name": "stdout",
     "output_type": "stream",
     "text": [
      "[0.0001, 0.0004, 0.0019, 0.0095, 0.0201, 0.0278, 0.0298, 0.0344, 0.0459, 0.324, 0.4262, 0.5719, 0.6528, 0.759, 1.0]\n"
     ]
    }
   ],
   "source": [
    "# Step 1 - order the array, ascending\n",
    "data_vec.sort()\n",
    "print(data_vec)"
   ]
  },
  {
   "cell_type": "code",
   "execution_count": 7,
   "metadata": {},
   "outputs": [
    {
     "name": "stdout",
     "output_type": "stream",
     "text": [
      "___ 1 ____\n",
      "0.0033333333333333335\n",
      "___ 2 ____\n",
      "0.006666666666666667\n",
      "___ 3 ____\n",
      "0.010000000000000002\n",
      "___ 4 ____\n",
      "0.013333333333333334\n",
      "___ 5 ____\n",
      "0.016666666666666666\n",
      "___ 6 ____\n",
      "0.020000000000000004\n",
      "___ 7 ____\n",
      "0.023333333333333334\n",
      "___ 8 ____\n",
      "0.02666666666666667\n",
      "___ 9 ____\n",
      "0.03\n",
      "___ 10 ____\n",
      "0.03333333333333333\n",
      "___ 11 ____\n",
      "0.03666666666666667\n",
      "___ 12 ____\n",
      "0.04000000000000001\n",
      "___ 13 ____\n",
      "0.043333333333333335\n",
      "___ 14 ____\n",
      "0.04666666666666667\n",
      "___ 15 ____\n",
      "0.05\n"
     ]
    }
   ],
   "source": [
    "# Define q* = 0.05\n",
    "m = len(data_vec)\n",
    "print(m)\n",
    "q = 0.05\n",
    "hold_list = []\n",
    "for i in range(1, m + 1):\n",
    "    val = (i / m) * q\n",
    "    hold_list.append(val)\n",
    "    print('___', i, '____')\n",
    "    print(val)\n"
   ]
  },
  {
   "cell_type": "code",
   "execution_count": 8,
   "metadata": {},
   "outputs": [],
   "source": [
    "combo = pd.DataFrame({'i' : range(1, m+1)\n",
    "             , 'p_value' : data_vec\n",
    "             , 'adjusted_p' : hold_list})\n",
    "combo['reject'] = np.where(combo['p_value'] < combo['adjusted_p'], 1, 0)"
   ]
  },
  {
   "cell_type": "code",
   "execution_count": 9,
   "metadata": {},
   "outputs": [
    {
     "data": {
      "text/html": [
       "<div>\n",
       "<style scoped>\n",
       "    .dataframe tbody tr th:only-of-type {\n",
       "        vertical-align: middle;\n",
       "    }\n",
       "\n",
       "    .dataframe tbody tr th {\n",
       "        vertical-align: top;\n",
       "    }\n",
       "\n",
       "    .dataframe thead th {\n",
       "        text-align: right;\n",
       "    }\n",
       "</style>\n",
       "<table border=\"1\" class=\"dataframe\">\n",
       "  <thead>\n",
       "    <tr style=\"text-align: right;\">\n",
       "      <th></th>\n",
       "      <th>i</th>\n",
       "      <th>p_value</th>\n",
       "      <th>adjusted_p</th>\n",
       "      <th>reject</th>\n",
       "    </tr>\n",
       "  </thead>\n",
       "  <tbody>\n",
       "    <tr>\n",
       "      <th>0</th>\n",
       "      <td>1</td>\n",
       "      <td>0.0001</td>\n",
       "      <td>0.003333</td>\n",
       "      <td>1</td>\n",
       "    </tr>\n",
       "    <tr>\n",
       "      <th>1</th>\n",
       "      <td>2</td>\n",
       "      <td>0.0004</td>\n",
       "      <td>0.006667</td>\n",
       "      <td>1</td>\n",
       "    </tr>\n",
       "    <tr>\n",
       "      <th>2</th>\n",
       "      <td>3</td>\n",
       "      <td>0.0019</td>\n",
       "      <td>0.010000</td>\n",
       "      <td>1</td>\n",
       "    </tr>\n",
       "    <tr>\n",
       "      <th>3</th>\n",
       "      <td>4</td>\n",
       "      <td>0.0095</td>\n",
       "      <td>0.013333</td>\n",
       "      <td>1</td>\n",
       "    </tr>\n",
       "    <tr>\n",
       "      <th>4</th>\n",
       "      <td>5</td>\n",
       "      <td>0.0201</td>\n",
       "      <td>0.016667</td>\n",
       "      <td>0</td>\n",
       "    </tr>\n",
       "    <tr>\n",
       "      <th>5</th>\n",
       "      <td>6</td>\n",
       "      <td>0.0278</td>\n",
       "      <td>0.020000</td>\n",
       "      <td>0</td>\n",
       "    </tr>\n",
       "    <tr>\n",
       "      <th>6</th>\n",
       "      <td>7</td>\n",
       "      <td>0.0298</td>\n",
       "      <td>0.023333</td>\n",
       "      <td>0</td>\n",
       "    </tr>\n",
       "    <tr>\n",
       "      <th>7</th>\n",
       "      <td>8</td>\n",
       "      <td>0.0344</td>\n",
       "      <td>0.026667</td>\n",
       "      <td>0</td>\n",
       "    </tr>\n",
       "    <tr>\n",
       "      <th>8</th>\n",
       "      <td>9</td>\n",
       "      <td>0.0459</td>\n",
       "      <td>0.030000</td>\n",
       "      <td>0</td>\n",
       "    </tr>\n",
       "    <tr>\n",
       "      <th>9</th>\n",
       "      <td>10</td>\n",
       "      <td>0.3240</td>\n",
       "      <td>0.033333</td>\n",
       "      <td>0</td>\n",
       "    </tr>\n",
       "    <tr>\n",
       "      <th>10</th>\n",
       "      <td>11</td>\n",
       "      <td>0.4262</td>\n",
       "      <td>0.036667</td>\n",
       "      <td>0</td>\n",
       "    </tr>\n",
       "    <tr>\n",
       "      <th>11</th>\n",
       "      <td>12</td>\n",
       "      <td>0.5719</td>\n",
       "      <td>0.040000</td>\n",
       "      <td>0</td>\n",
       "    </tr>\n",
       "    <tr>\n",
       "      <th>12</th>\n",
       "      <td>13</td>\n",
       "      <td>0.6528</td>\n",
       "      <td>0.043333</td>\n",
       "      <td>0</td>\n",
       "    </tr>\n",
       "    <tr>\n",
       "      <th>13</th>\n",
       "      <td>14</td>\n",
       "      <td>0.7590</td>\n",
       "      <td>0.046667</td>\n",
       "      <td>0</td>\n",
       "    </tr>\n",
       "    <tr>\n",
       "      <th>14</th>\n",
       "      <td>15</td>\n",
       "      <td>1.0000</td>\n",
       "      <td>0.050000</td>\n",
       "      <td>0</td>\n",
       "    </tr>\n",
       "  </tbody>\n",
       "</table>\n",
       "</div>"
      ],
      "text/plain": [
       "     i  p_value  adjusted_p  reject\n",
       "0    1   0.0001    0.003333       1\n",
       "1    2   0.0004    0.006667       1\n",
       "2    3   0.0019    0.010000       1\n",
       "3    4   0.0095    0.013333       1\n",
       "4    5   0.0201    0.016667       0\n",
       "5    6   0.0278    0.020000       0\n",
       "6    7   0.0298    0.023333       0\n",
       "7    8   0.0344    0.026667       0\n",
       "8    9   0.0459    0.030000       0\n",
       "9   10   0.3240    0.033333       0\n",
       "10  11   0.4262    0.036667       0\n",
       "11  12   0.5719    0.040000       0\n",
       "12  13   0.6528    0.043333       0\n",
       "13  14   0.7590    0.046667       0\n",
       "14  15   1.0000    0.050000       0"
      ]
     },
     "execution_count": 9,
     "metadata": {},
     "output_type": "execute_result"
    }
   ],
   "source": [
    "combo"
   ]
  },
  {
   "cell_type": "code",
   "execution_count": null,
   "metadata": {},
   "outputs": [],
   "source": []
  }
 ],
 "metadata": {
  "kernelspec": {
   "display_name": "Python [conda env:final_lec]",
   "language": "python",
   "name": "conda-env-final_lec-py"
  },
  "language_info": {
   "codemirror_mode": {
    "name": "ipython",
    "version": 3
   },
   "file_extension": ".py",
   "mimetype": "text/x-python",
   "name": "python",
   "nbconvert_exporter": "python",
   "pygments_lexer": "ipython3",
   "version": "3.6.6"
  }
 },
 "nbformat": 4,
 "nbformat_minor": 2
}
